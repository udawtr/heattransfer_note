{
 "cells": [
  {
   "cell_type": "markdown",
   "metadata": {},
   "source": [
    "# 熱伝達\n",
    "\n",
    "$q_c = \\alpha_c \\cdot (\\theta_s - \\theta_f)$\n",
    "\n",
    "* $q_c$ ... 対流による伝熱量 [$W/m^2$]\n",
    "* $\\alpha_c$ ... 熱伝達率 [$W/m^2\\cdot K$]\n",
    "* $\\theta_s$ ... 個体壁表面温 [${}^\\circ\\mathrm{C}$]\n",
    "* $\\theta_f$ ... 壁体から十分離れた流体(空気)の温度 [${}^\\circ\\mathrm{C}$]\n",
    "\n",
    "(最新建築環境工学 P.35, P.185)"
   ]
  },
  {
   "cell_type": "code",
   "execution_count": 1,
   "metadata": {
    "collapsed": false
   },
   "outputs": [],
   "source": [
    "#matplotlib inline\n",
    "\n",
    "import matplotlib.pyplot as plt\n",
    "import math\n"
   ]
  },
  {
   "cell_type": "code",
   "execution_count": 2,
   "metadata": {
    "collapsed": true
   },
   "outputs": [],
   "source": [
    "#計算単位時間 dt[s]\n",
    "\n",
    "dt = 1"
   ]
  },
  {
   "cell_type": "code",
   "execution_count": 3,
   "metadata": {
    "collapsed": true
   },
   "outputs": [],
   "source": [
    "class HeatCapacityObject:\n",
    "    def __init__(self, V, cro, T = 0):\n",
    "        self.V = V      #容積[m^3]\n",
    "        self.cro = cro  #[kJ/m^3・K]\n",
    "        self.T = T    #初期温度\n",
    "        self.C = cro * 1000 * V  #熱容量[J/K]\n",
    "        self.dU = 0   #熱の流量[J]\n",
    "    \n",
    "    def addHeat(self, U):\n",
    "        dT = U / self.C\n",
    "        self.T = self.T + dT\n",
    "\n",
    "    def commit(self):\n",
    "        dT = self.dU / self.C\n",
    "        self.T = self.T + dT\n",
    "        self.dU = 0\n",
    "\n",
    "class Wall(HeatCapacityObject):\n",
    "    def __init__(self, S, depth, cro = 854, T = 0):\n",
    "        self.S = S\n",
    "        self.depth = depth\n",
    "        V = S * depth\n",
    "        HeatCapacityObject.__init__(self, V, cro, T)\n",
    "\n",
    "class Room(HeatCapacityObject):\n",
    "    def __init__(self, V, T = 0):\n",
    "        #空気熱容量の計算\n",
    "        ro_air = 1.024  # [kg/m^3]  （920hPa,37℃,相対湿度50％RH）\n",
    "        c_air = 1.007   # [kJ/kg・K] （920hPa,37℃）\n",
    "        cro = ro_air * c_air  #[kJ/m^3・K]\n",
    "\n",
    "        HeatCapacityObject.__init__(self, V, cro, T)\n",
    "\n",
    "class ConvectiveHeatTransfer:\n",
    "    def __init__(self, wall, room, c = 1.98):\n",
    "        #c値\n",
    "        #-----\n",
    "        #暖房時の天井面または冷房時の床表面=2.67\n",
    "        #暖房時の床表面または冷房時の天井面=0.64～0.87\n",
    "        #垂直壁表面=1.98\n",
    "        self.c = c\n",
    "        \n",
    "        self.wall = wall\n",
    "        self.room = room\n",
    "    \n",
    "    def get_alpha_c(self, dT):\n",
    "        return self.c * pow(dT, 0.25) \n",
    "    \n",
    "    def get_U(self):\n",
    "        dT = self.wall.T - self.room.T\n",
    "        alpha_c = self.get_alpha_c(dT)\n",
    "        q = alpha_c * dT\n",
    "        U = q * wall.S\n",
    "        return U\n",
    "    \n",
    "    def run(self, tick):\n",
    "        U = self.get_U() * tick\n",
    "        self.wall.addHeat(-U)\n",
    "        self.room.addHeat(U)\n",
    "    "
   ]
  },
  {
   "cell_type": "code",
   "execution_count": 4,
   "metadata": {
    "collapsed": false
   },
   "outputs": [
    {
     "data": {
      "image/png": "[encoded data removed]",
      "text/plain": [
       "<matplotlib.figure.Figure at 0x2b709e37710>"
      ]
     },
     "metadata": {},
     "output_type": "display_data"
    }
   ],
   "source": [
    "#壁(厚みは無視する)\n",
    "cro_s = 854 # [kJ/m^3・K] せっこうボード\n",
    "depth = 0.001  #厚み 0.001m\n",
    "S = 6 #面積 6m^2\n",
    "wall = Wall(S, depth, cro_s, 40)\n",
    "\n",
    "#空気で見たされた部屋\n",
    "room = Room(10, 20)\n",
    "\n",
    "#自然換気対流\n",
    "nv = ConvectiveHeatTransfer(wall, room)\n",
    "\n",
    "#計算単位時間 dt[s]\n",
    "dt = 1\n",
    "\n",
    "data = []\n",
    "for i in range(2000):\n",
    "    #非定常計算\n",
    "    for kernel in [nv]:\n",
    "        kernel.run(dt)\n",
    "\n",
    "    #定常計算\n",
    "    for heatblock in [wall, room]:\n",
    "        heatblock.commit()\n",
    "    \n",
    "    data.append((i*dt, wall.T, room.T))\n",
    "\n",
    "#表示\n",
    "x = [x[0] for x in data]\n",
    "plt.title(\"heat transfer\")\n",
    "plt.plot(x, [y[1] for y in data], label=\"T_s\")\n",
    "plt.plot(x, [y[2] for y in data], label=\"T_f\")\n",
    "#plt.ylim(0,50)\n",
    "plt.xlabel(\"elapsed[s]\")\n",
    "plt.ylabel(\"temperature [C]\")\n",
    "plt.legend(loc=\"lower right\")\n",
    "plt.show()"
   ]
  },
  {
   "cell_type": "code",
   "execution_count": null,
   "metadata": {
    "collapsed": true
   },
   "outputs": [],
   "source": []
  }
 ],
 "metadata": {
  "anaconda-cloud": {},
  "kernelspec": {
   "display_name": "Python [default]",
   "language": "python",
   "name": "python3"
  },
  "language_info": {
   "codemirror_mode": {
    "name": "ipython",
    "version": 3
   },
   "file_extension": ".py",
   "mimetype": "text/x-python",
   "name": "python",
   "nbconvert_exporter": "python",
   "pygments_lexer": "ipython3",
   "version": "3.5.2"
  }
 },
 "nbformat": 4,
 "nbformat_minor": 1
}
