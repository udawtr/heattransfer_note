{
 "cells": [
  {
   "cell_type": "markdown",
   "metadata": {},
   "source": [
    "# 熱伝達\n",
    "\n",
    "$q_c = \\alpha_c \\cdot (\\theta_s - \\theta_f)$\n",
    "\n",
    "* $q_c$ ... 対流による伝熱量 [$W/m^2$]\n",
    "* $\\alpha_c$ ... 熱伝達率 [$W/m^2\\cdot K$]\n",
    "* $\\theta_s$ ... 個体壁表面温 [${}^\\circ\\mathrm{C}$]\n",
    "* $\\theta_f$ ... 壁体から十分離れた流体(空気)の温度 [${}^\\circ\\mathrm{C}$]\n",
    "\n",
    "(最新建築環境工学 P.35, P.185)"
   ]
  },
  {
   "cell_type": "code",
   "execution_count": 1,
   "metadata": {
    "collapsed": false
   },
   "outputs": [],
   "source": [
    "#matplotlib inline\n",
    "\n",
    "import matplotlib.pyplot as plt\n",
    "import math\n"
   ]
  },
  {
   "cell_type": "code",
   "execution_count": 2,
   "metadata": {
    "collapsed": true
   },
   "outputs": [],
   "source": [
    "#計算単位時間 dt[s]\n",
    "\n",
    "dt = 1"
   ]
  },
  {
   "cell_type": "code",
   "execution_count": 3,
   "metadata": {
    "collapsed": false
   },
   "outputs": [],
   "source": [
    "class LinkVariable:\n",
    "    def __init__(self):\n",
    "        self.Link = None\n",
    "    \n",
    "    def __call__(self, t):\n",
    "        return self.Link(t)\n",
    "\n",
    "class Kelvin:\n",
    "    def __init__(self, V, cro, U, T):\n",
    "        self.V = V      #容積[m^3]\n",
    "        self.cro = cro  #[kJ/m^3・K]\n",
    "        self.C = cro * 1000 * V  #熱容量[J/K]\n",
    "        self.U = U\n",
    "        self.T = T\n",
    "    \n",
    "    def __call__(self, t):\n",
    "        return self.T\n",
    "    \n",
    "    def commit(self, t):\n",
    "        self.T = self.T + self.U(t) / self.C\n",
    "\n",
    "class ConvectiveHeatTransfer:\n",
    "    def __init__(self, T1, T2, S,  c = 1.98, dt = 1.0):\n",
    "        #c値\n",
    "        #-----\n",
    "        #暖房時の天井面または冷房時の床表面=2.67\n",
    "        #暖房時の床表面または冷房時の天井面=0.64～0.87\n",
    "        #垂直壁表面=1.98\n",
    "        self.c = c\n",
    "        \n",
    "        self.T1 = T1\n",
    "        self.T2 = T2\n",
    "        self.S = S\n",
    "        \n",
    "        self.dt = dt\n",
    "    \n",
    "    def get_alpha_c(self, dT):\n",
    "        return self.c * pow(dT, 0.25) \n",
    "    \n",
    "    def get_U(self, t):\n",
    "        dT = self.T1(t) - self.T2(t)\n",
    "        alpha_c = self.get_alpha_c(dT)\n",
    "        q = alpha_c * dT * self.dt\n",
    "        U = q * self.S\n",
    "        return U\n",
    "    \n",
    "    def __call__(self, tick):\n",
    "        U = self.get_U(tick) * tick\n",
    "        return -U\n",
    "\n",
    "class HeatCapacityModule:\n",
    "    def __init__(self, V, cro, T):\n",
    "        self.U = LinkVariable()\n",
    "        self.T = Kelvin(V, cro, self.U, T)\n",
    "    \n",
    "    def commit(self, t):\n",
    "        self.T.commit(t)\n",
    "\n",
    "class ConvectiveHeatTransferModule:\n",
    "    def __init__(self, HC1, HC2, c = 1.98, dt = 1):\n",
    "        self.CHT1 = ConvectiveHeatTransfer(HC1.T, HC2.T, c, dt)\n",
    "        self.CHT2 = ConvectiveHeatTransfer(HC2.T, HC1.T, c, dt)\n",
    "        HC1.U.Link = self.CHT1\n",
    "        HC2.U.Link = self.CHT2\n",
    "    \n",
    "    def commit(self, t):\n",
    "        return\n",
    "\n",
    "class ContainerModule:\n",
    "    def __init__(self):\n",
    "        self.Modules = []\n",
    "    \n",
    "    def commit(self, t):\n",
    "        for m in self.Modules:\n",
    "            if m.commit:\n",
    "                m.commit(t)"
   ]
  },
  {
   "cell_type": "code",
   "execution_count": 4,
   "metadata": {
    "collapsed": false
   },
   "outputs": [
    {
     "data": {
      "image/png": "[encoded data removed]",
      "text/plain": [
       "<matplotlib.figure.Figure at 0x1fbb5bd54e0>"
      ]
     },
     "metadata": {},
     "output_type": "display_data"
    }
   ],
   "source": [
    "#計算単位時間 dt[s]\n",
    "dt = 1\n",
    "\n",
    "#壁(厚みは無視する)\n",
    "wall = HeatCapacityModule(6 * 0.001, 854, 40)\n",
    "\n",
    "#空気で見たされた部屋\n",
    "room = HeatCapacityModule(10, 1.024 * 1.007, 20)\n",
    "\n",
    "#自然換気対流\n",
    "nv = ConvectiveHeatTransferModule(wall, room, 6, dt)\n",
    "\n",
    "container = ContainerModule()\n",
    "container.Modules.extend([wall, room, nv])\n",
    "\n",
    "data = []\n",
    "for i in range(200):\n",
    "    \n",
    "    container.commit(i)\n",
    "    \n",
    "    data.append((i*dt, wall.T(i), room.T(i)))\n",
    "\n",
    "#表示\n",
    "x = [x[0] for x in data]\n",
    "plt.title(\"heat transfer\")\n",
    "plt.plot(x, [y[1] for y in data], label=\"$T_s$\")\n",
    "plt.plot(x, [y[2] for y in data], label=\"$T_f$\")\n",
    "#plt.ylim(0,50)\n",
    "plt.xlabel(\"elapsed[s]\")\n",
    "plt.ylabel(\"temperature [C]\")\n",
    "plt.legend(loc=\"lower right\")\n",
    "plt.show()"
   ]
  },
  {
   "cell_type": "code",
   "execution_count": null,
   "metadata": {
    "collapsed": true
   },
   "outputs": [],
   "source": []
  }
 ],
 "metadata": {
  "anaconda-cloud": {},
  "kernelspec": {
   "display_name": "Python [default]",
   "language": "python",
   "name": "python3"
  },
  "language_info": {
   "codemirror_mode": {
    "name": "ipython",
    "version": 3
   },
   "file_extension": ".py",
   "mimetype": "text/x-python",
   "name": "python",
   "nbconvert_exporter": "python",
   "pygments_lexer": "ipython3",
   "version": "3.5.2"
  }
 },
 "nbformat": 4,
 "nbformat_minor": 1
}
