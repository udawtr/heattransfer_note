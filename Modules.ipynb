{
 "cells": [
  {
   "cell_type": "markdown",
   "metadata": {},
   "source": [
    "## Modules"
   ]
  },
  {
   "cell_type": "code",
   "execution_count": 1,
   "metadata": {
    "collapsed": false
   },
   "outputs": [
    {
     "name": "stdout",
     "output_type": "stream",
     "text": [
      "Importing Jupyter notebook from Functions.ipynb\n"
     ]
    }
   ],
   "source": [
    "import nbimporter\n",
    "import Functions as F\n",
    "\n",
    "class HeatCapacityModule:\n",
    "    def __init__(self, V, cro, T):\n",
    "        self.HeatIn = []\n",
    "        self.T = F.Kelvin(V, cro, F.Concat(self.HeatIn), T)\n",
    "    \n",
    "    def commit(self, t):\n",
    "        self.T.commit(t)\n",
    "\n",
    "class ContainerModule:\n",
    "    def __init__(self):\n",
    "        self.Modules = []\n",
    "    \n",
    "    def commit(self, t):\n",
    "        for m in self.Modules:\n",
    "            if m.commit:\n",
    "                m.commit(t)\n",
    "\n",
    "class ConvectiveHeatTransferModule:\n",
    "    def __init__(self, T1, T2, S, c = 1.98, dt = 1):\n",
    "        Q = F.NewtonCooling(T1, T2, S, c, dt)\n",
    "        self.HeatOut1 = Q\n",
    "        self.HeatOut2 = F.Invert(Q)\n",
    "    \n",
    "    def commit(self, t):\n",
    "        return\n",
    "\n",
    "class ConductiveHeatTransferModule:\n",
    "    def __init__(self, rambda, dx, S, T1, T2, dt = 1.0):\n",
    "        Q = F.Fourier(rambda, dx, S, T1, T2, dt)\n",
    "        self.HeatOut1 = Q\n",
    "        self.HeatOut2 = F.Invert(Q)\n",
    "    \n",
    "    def commit(self, t):\n",
    "        return\n"
   ]
  }
 ],
 "metadata": {
  "kernelspec": {
   "display_name": "Python [default]",
   "language": "python",
   "name": "python3"
  },
  "language_info": {
   "codemirror_mode": {
    "name": "ipython",
    "version": 3
   },
   "file_extension": ".py",
   "mimetype": "text/x-python",
   "name": "python",
   "nbconvert_exporter": "python",
   "pygments_lexer": "ipython3",
   "version": "3.5.2"
  }
 },
 "nbformat": 4,
 "nbformat_minor": 1
}
